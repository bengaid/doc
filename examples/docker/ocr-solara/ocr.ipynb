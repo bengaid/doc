{
 "cells": [
  {
   "cell_type": "code",
   "execution_count": 1,
   "id": "e118ac86-d992-4237-b311-630fcb58a51b",
   "metadata": {},
   "outputs": [
    {
     "name": "stderr",
     "output_type": "stream",
     "text": [
      "Neither CUDA nor MPS are available - defaulting to CPU. Note: This module is much faster with a GPU.\n"
     ]
    }
   ],
   "source": [
    "import easyocr\n",
    "reader = easyocr.Reader(['ch_sim','en']) # this needs to run only once to load the model into memory\n",
    "result = reader.readtext('label.png')"
   ]
  },
  {
   "cell_type": "code",
   "execution_count": 2,
   "id": "22289dfc-27d3-4e05-9aa8-315ded22c2d3",
   "metadata": {},
   "outputs": [
    {
     "data": {
      "text/plain": [
       "[([[486, 88], [494, 88], [494, 130], [486, 130]], ',', 0.010409792826202635),\n",
       " ([[218, 160], [362, 160], [362, 192], [218, 192]],\n",
       "  'FLORAL',\n",
       "  0.9662708519511418),\n",
       " ([[217, 197], [359, 197], [359, 213], [217, 213]],\n",
       "  'SKIN CARE PRODUCT',\n",
       "  0.6100706672200901),\n",
       " ([[460, 148], [516, 148], [516, 244], [460, 244]],\n",
       "  '州',\n",
       "  0.0017237470268902655),\n",
       " ([[504, 218], [512, 218], [512, 258], [504, 258]], '', 0.0),\n",
       " ([[249, 273], [329, 273], [329, 287], [249, 287]],\n",
       "  '100% Orgnic',\n",
       "  0.6633306567110321),\n",
       " ([[486, 256], [514, 256], [514, 296], [486, 296]],\n",
       "  '疆',\n",
       "  0.0013517888920644566),\n",
       " ([[245, 293], [351, 293], [351, 307], [245, 307]],\n",
       "  'chemiclIncluded',\n",
       "  0.5171557901170833)]"
      ]
     },
     "execution_count": 2,
     "metadata": {},
     "output_type": "execute_result"
    }
   ],
   "source": [
    "result"
   ]
  },
  {
   "cell_type": "code",
   "execution_count": null,
   "id": "265d9d0b-a07e-431c-87dc-5bf170a61fff",
   "metadata": {},
   "outputs": [],
   "source": []
  }
 ],
 "metadata": {
  "kernelspec": {
   "display_name": "Python 3 (ipykernel)",
   "language": "python",
   "name": "python3"
  },
  "language_info": {
   "codemirror_mode": {
    "name": "ipython",
    "version": 3
   },
   "file_extension": ".py",
   "mimetype": "text/x-python",
   "name": "python",
   "nbconvert_exporter": "python",
   "pygments_lexer": "ipython3",
   "version": "3.10.12"
  }
 },
 "nbformat": 4,
 "nbformat_minor": 5
}
