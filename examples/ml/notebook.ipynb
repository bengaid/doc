{
 "cells": [
  {
   "cell_type": "markdown",
   "id": "f2002e48",
   "metadata": {},
   "source": [
    "# Classification\n",
    "\n",
    "In this example, we'll show how to use a model to predict values from your input.\n",
    "We are using the Penguins dataset. We'll ask you to input a few details to classify based on parameters such as bill and flipper size. The result will be the species of that specific penguin.\n"
   ]
  },
  {
   "cell_type": "markdown",
   "metadata": {},
   "source": [
    "Made with ❤️ by **[Ploomber cloud](https://platform.ploomber.io/)**."
   ]
  },
  {
   "cell_type": "markdown",
   "metadata": {},
   "source": [
    "## Any feedback?\n",
    "We'd love to hear your feedback, and you'll get **free compute, credits and Ploomber swag**.\n",
    "\n",
    "Set a [short meeting](https://calendly.com/d/d2s-xd9-4r9/ploomber-founders), or [fill out this form](https://ploomber.io/contact/) to learn more."
   ]
  },
  {
   "cell_type": "code",
   "execution_count": 1,
   "id": "59cb8f7d-79c4-4f43-a11c-9c65f2b4f346",
   "metadata": {},
   "outputs": [],
   "source": [
    "# %pip install seaborn scikit-learn pandas sklearn-evaluation --quiet"
   ]
  },
  {
   "cell_type": "code",
   "execution_count": 2,
   "id": "936da177",
   "metadata": {},
   "outputs": [],
   "source": [
    "import pandas as pd\n",
    "import seaborn as sns\n",
    "from sklearn.preprocessing import LabelEncoder\n",
    "from sklearn.model_selection import train_test_split\n",
    "from sklearn import tree\n",
    "from sklearn.neighbors import KNeighborsClassifier\n",
    "from sklearn.metrics import accuracy_score, classification_report\n",
    "from sklearn_evaluation import plot, table\n",
    "\n",
    "# Based on\n",
    "# https://github.com/Adeyinka-hub/Machine-Learning-2/blob/master/Penguin%20Dataset.ipynb"
   ]
  },
  {
   "cell_type": "markdown",
   "id": "44f5520a",
   "metadata": {},
   "source": [
    "## Sample our dataset\n",
    "Take a look on the actual data"
   ]
  },
  {
   "cell_type": "code",
   "execution_count": 3,
   "id": "7a35ff99",
   "metadata": {},
   "outputs": [
    {
     "data": {
      "text/html": [
       "<div>\n",
       "<style scoped>\n",
       "    .dataframe tbody tr th:only-of-type {\n",
       "        vertical-align: middle;\n",
       "    }\n",
       "\n",
       "    .dataframe tbody tr th {\n",
       "        vertical-align: top;\n",
       "    }\n",
       "\n",
       "    .dataframe thead th {\n",
       "        text-align: right;\n",
       "    }\n",
       "</style>\n",
       "<table border=\"1\" class=\"dataframe\">\n",
       "  <thead>\n",
       "    <tr style=\"text-align: right;\">\n",
       "      <th></th>\n",
       "      <th>species</th>\n",
       "      <th>island</th>\n",
       "      <th>bill_length_mm</th>\n",
       "      <th>bill_depth_mm</th>\n",
       "      <th>flipper_length_mm</th>\n",
       "      <th>body_mass_g</th>\n",
       "      <th>sex</th>\n",
       "    </tr>\n",
       "  </thead>\n",
       "  <tbody>\n",
       "    <tr>\n",
       "      <th>0</th>\n",
       "      <td>Adelie</td>\n",
       "      <td>Torgersen</td>\n",
       "      <td>39.1</td>\n",
       "      <td>18.7</td>\n",
       "      <td>181.0</td>\n",
       "      <td>3750.0</td>\n",
       "      <td>Male</td>\n",
       "    </tr>\n",
       "    <tr>\n",
       "      <th>1</th>\n",
       "      <td>Adelie</td>\n",
       "      <td>Torgersen</td>\n",
       "      <td>39.5</td>\n",
       "      <td>17.4</td>\n",
       "      <td>186.0</td>\n",
       "      <td>3800.0</td>\n",
       "      <td>Female</td>\n",
       "    </tr>\n",
       "    <tr>\n",
       "      <th>2</th>\n",
       "      <td>Adelie</td>\n",
       "      <td>Torgersen</td>\n",
       "      <td>40.3</td>\n",
       "      <td>18.0</td>\n",
       "      <td>195.0</td>\n",
       "      <td>3250.0</td>\n",
       "      <td>Female</td>\n",
       "    </tr>\n",
       "    <tr>\n",
       "      <th>3</th>\n",
       "      <td>Adelie</td>\n",
       "      <td>Torgersen</td>\n",
       "      <td>NaN</td>\n",
       "      <td>NaN</td>\n",
       "      <td>NaN</td>\n",
       "      <td>NaN</td>\n",
       "      <td>NaN</td>\n",
       "    </tr>\n",
       "    <tr>\n",
       "      <th>4</th>\n",
       "      <td>Adelie</td>\n",
       "      <td>Torgersen</td>\n",
       "      <td>36.7</td>\n",
       "      <td>19.3</td>\n",
       "      <td>193.0</td>\n",
       "      <td>3450.0</td>\n",
       "      <td>Female</td>\n",
       "    </tr>\n",
       "  </tbody>\n",
       "</table>\n",
       "</div>"
      ],
      "text/plain": [
       "  species     island  bill_length_mm  bill_depth_mm  flipper_length_mm  \\\n",
       "0  Adelie  Torgersen            39.1           18.7              181.0   \n",
       "1  Adelie  Torgersen            39.5           17.4              186.0   \n",
       "2  Adelie  Torgersen            40.3           18.0              195.0   \n",
       "3  Adelie  Torgersen             NaN            NaN                NaN   \n",
       "4  Adelie  Torgersen            36.7           19.3              193.0   \n",
       "\n",
       "   body_mass_g     sex  \n",
       "0       3750.0    Male  \n",
       "1       3800.0  Female  \n",
       "2       3250.0  Female  \n",
       "3          NaN     NaN  \n",
       "4       3450.0  Female  "
      ]
     },
     "execution_count": 3,
     "metadata": {},
     "output_type": "execute_result"
    }
   ],
   "source": [
    "df = sns.load_dataset(\"penguins\")\n",
    "\n",
    "# Review a sample of the data\n",
    "df.head(5)"
   ]
  },
  {
   "cell_type": "code",
   "execution_count": 4,
   "id": "5ce0e664",
   "metadata": {},
   "outputs": [],
   "source": [
    "#Data cleaning\n",
    "df.isnull().sum()\n",
    "df.dropna(inplace=True)\n",
    "Y = df.species\n",
    "Y = Y.map({\"Adelie\": 0, \"Chinstrap\": 1, \"Gentoo\": 2})\n",
    "df.drop(\"species\", inplace=True, axis=1)\n",
    "se = pd.get_dummies(df[\"sex\"], drop_first=True)\n",
    "df = pd.concat([df, se], axis=1)\n",
    "df.drop(\"sex\", axis=1, inplace=True)\n",
    "le = LabelEncoder()\n",
    "df[\"island\"] = le.fit_transform(df[\"island\"])"
   ]
  },
  {
   "cell_type": "code",
   "execution_count": 5,
   "id": "502155ce",
   "metadata": {},
   "outputs": [
    {
     "name": "stdout",
     "output_type": "stream",
     "text": [
      "Acc on test data: 0.980\n"
     ]
    }
   ],
   "source": [
    "# Train the Decision Tree Classifier\n",
    "X = df\n",
    "X_train, X_test, y_train, y_test = train_test_split(\n",
    "    X, Y, test_size=0.3, random_state=40\n",
    ")\n",
    "\n",
    "\n",
    "dtc = tree.DecisionTreeClassifier()\n",
    "dt_model = dtc.fit(X_train, y_train)\n",
    "y_pred_dt = dt_model.predict(X_test)\n",
    "\n",
    "print(\"Acc on test data: {:,.3f}\".format(dtc.score(X_test, y_test)))"
   ]
  },
  {
   "cell_type": "markdown",
   "id": "6de82aec-3941-40e6-9679-e62e3ed68d9d",
   "metadata": {},
   "source": [
    "### Use sample data or use your own\n",
    "The defaults in the form are part of a test dataset. You can predict your own penguin or check our model is working correctly."
   ]
  },
  {
   "cell_type": "code",
   "execution_count": 7,
   "id": "13c72c3b-971c-4eb2-a571-750b7ea1d58e",
   "metadata": {},
   "outputs": [
    {
     "data": {
      "application/vnd.jupyter.widget-view+json": {
       "model_id": "fc078f834518479a9f93ca2d084e7b93",
       "version_major": 2,
       "version_minor": 0
      },
      "text/plain": [
       "Dropdown(description='Island:', index=1, options=('Biscoe', 'Dream', 'Torgersen'), value='Dream')"
      ]
     },
     "metadata": {},
     "output_type": "display_data"
    },
    {
     "data": {
      "application/vnd.jupyter.widget-view+json": {
       "model_id": "0b02ae41f58c496fbc118f1813ddfc20",
       "version_major": 2,
       "version_minor": 0
      },
      "text/plain": [
       "FloatText(value=46.7, description='Bill Length (mm):')"
      ]
     },
     "metadata": {},
     "output_type": "display_data"
    },
    {
     "data": {
      "application/vnd.jupyter.widget-view+json": {
       "model_id": "3d6ffc71099244d2b728b0f76ff94529",
       "version_major": 2,
       "version_minor": 0
      },
      "text/plain": [
       "FloatText(value=17.9, description='Bill Depth (mm):')"
      ]
     },
     "metadata": {},
     "output_type": "display_data"
    },
    {
     "data": {
      "application/vnd.jupyter.widget-view+json": {
       "model_id": "b3931cd457ea44a4baf0a628d9fe4e06",
       "version_major": 2,
       "version_minor": 0
      },
      "text/plain": [
       "FloatText(value=195.0, description='Flipper Length (mm):')"
      ]
     },
     "metadata": {},
     "output_type": "display_data"
    },
    {
     "data": {
      "application/vnd.jupyter.widget-view+json": {
       "model_id": "7c6f23431b514558bb59521d8d5a87e4",
       "version_major": 2,
       "version_minor": 0
      },
      "text/plain": [
       "FloatText(value=3300.0, description='Body Mass (g):')"
      ]
     },
     "metadata": {},
     "output_type": "display_data"
    },
    {
     "data": {
      "application/vnd.jupyter.widget-view+json": {
       "model_id": "5ba8f3e080544c9d9132b9f8c5be1ae7",
       "version_major": 2,
       "version_minor": 0
      },
      "text/plain": [
       "Dropdown(description='Sex:', index=1, options=('Male', 'Female'), value='Female')"
      ]
     },
     "metadata": {},
     "output_type": "display_data"
    },
    {
     "data": {
      "application/vnd.jupyter.widget-view+json": {
       "model_id": "5b111c9fe57b4a47ace742031c6d5f0a",
       "version_major": 2,
       "version_minor": 0
      },
      "text/plain": [
       "Button(description='Predict', style=ButtonStyle())"
      ]
     },
     "metadata": {},
     "output_type": "display_data"
    },
    {
     "data": {
      "application/vnd.jupyter.widget-view+json": {
       "model_id": "46d5a877dee8412ca1f17ddbbf301551",
       "version_major": 2,
       "version_minor": 0
      },
      "text/plain": [
       "Output()"
      ]
     },
     "metadata": {},
     "output_type": "display_data"
    }
   ],
   "source": [
    "import ipywidgets as widgets\n",
    "from IPython.display import display\n",
    "\n",
    "# Readable Mappings\n",
    "def map_sex_to_numeric(sex):\n",
    "    if sex == 'Male':\n",
    "        return 0\n",
    "    elif sex == 'Female':\n",
    "        return 1\n",
    "    else:\n",
    "        return \n",
    "\n",
    "island_map = {\n",
    "    0: 'Biscoe',\n",
    "    1: 'Dream',\n",
    "    2: 'Torgersen',\n",
    "}\n",
    "\n",
    "species_map = {\n",
    "    0: 'Adelie',\n",
    "    1: 'Chinstrap',\n",
    "    2: 'Gentoo',\n",
    "}\n",
    "\n",
    "# Create input widgets for each column\n",
    "sample_data = X_test.iloc[0]\n",
    "island_input = widgets.Dropdown(\n",
    "    options=['Biscoe', 'Dream', 'Torgersen'],\n",
    "    description='Island:',\n",
    "    value=island_map[sample_data[\"island\"]]\n",
    ")\n",
    "\n",
    "sex_input = widgets.Dropdown(\n",
    "    options=['Male', 'Female'],\n",
    "    description='Sex:',\n",
    "    value='Male' if sample_data['Male'] else 'Female'\n",
    ")\n",
    "\n",
    "bill_length_input = widgets.FloatText(description='Bill Length (mm):', value=sample_data[\"bill_length_mm\"])\n",
    "bill_depth_input = widgets.FloatText(description='Bill Depth (mm):', value=sample_data[\"bill_depth_mm\"])\n",
    "flipper_length_input = widgets.FloatText(description='Flipper Length (mm):', value=sample_data[\"flipper_length_mm\"])\n",
    "body_mass_input = widgets.FloatText(description='Body Mass (g):', value=sample_data[\"body_mass_g\"])\n",
    "\n",
    "# Create a button for prediction\n",
    "predict_button = widgets.Button(description='Predict')\n",
    "\n",
    "# Create an output area for displaying predictions\n",
    "output = widgets.Output()\n",
    "        \n",
    "# Define a function to make predictions\n",
    "def predict_penguin(something):\n",
    "    print(something)\n",
    "    # Gather user inputs\n",
    "    input_data = {\n",
    "        'island': island_input.value,\n",
    "        'bill_length_mm': bill_length_input.value,\n",
    "        'bill_depth_mm': bill_depth_input.value,\n",
    "        'flipper_length_mm': flipper_length_input.value,\n",
    "        'body_mass_g': body_mass_input.value,\n",
    "        'Male': map_sex_to_numeric(sex_input.value),\n",
    "    }\n",
    "\n",
    "    # Call your predict_with_decision_tree function (assuming you've defined it as in a previous response)\n",
    "    input_array = pd.DataFrame([X_test.iloc[0]])\n",
    "    res = dt_model.predict(input_array)[0]\n",
    "\n",
    "    with output:\n",
    "        output.clear_output()\n",
    "        print(f'Predicted Penguin Species: {species_map[res]}')\n",
    "\n",
    "# Connect the button to the prediction function\n",
    "predict_button.on_click(predict_penguin)\n",
    "\n",
    "# Display the input form and output\n",
    "display(island_input, bill_length_input, bill_depth_input, flipper_length_input,\n",
    "        body_mass_input, sex_input, predict_button, output)"
   ]
  },
  {
   "cell_type": "markdown",
   "id": "df7b54e5-3ced-4eb0-b90c-b103c7f061c2",
   "metadata": {},
   "source": [
    "### Expected species with sample data:"
   ]
  },
  {
   "cell_type": "code",
   "execution_count": 8,
   "id": "e3b1a225-c872-41e0-97d8-fae595ef4aab",
   "metadata": {},
   "outputs": [
    {
     "name": "stdout",
     "output_type": "stream",
     "text": [
      "Expected Penguin Species: Chinstrap\n"
     ]
    }
   ],
   "source": [
    "print(f'Expected Penguin Species: {species_map[y_test.iloc[0]]}')"
   ]
  },
  {
   "cell_type": "markdown",
   "id": "daf9971e",
   "metadata": {},
   "source": [
    "## Model evaluation merics\n",
    "\n",
    "In this section, we can easily evaluate our model via a confusion matrix, and understand which feature affects our accuracy by order of importance."
   ]
  },
  {
   "cell_type": "code",
   "execution_count": 10,
   "id": "e7276ccb",
   "metadata": {},
   "outputs": [
    {
     "data": {
      "text/plain": [
       "<AxesSubplot: title={'center': 'Confusion matrix'}, xlabel='Predicted label', ylabel='True label'>"
      ]
     },
     "execution_count": 10,
     "metadata": {},
     "output_type": "execute_result"
    },
    {
     "data": {
      "image/png": "[encoded data removed]",
      "text/plain": [
       "<Figure size 640x480 with 2 Axes>"
      ]
     },
     "metadata": {},
     "output_type": "display_data"
    }
   ],
   "source": [
    "plot.confusion_matrix(y_test, y_pred_dt)"
   ]
  },
  {
   "cell_type": "code",
   "execution_count": 11,
   "id": "91928df6",
   "metadata": {},
   "outputs": [
    {
     "data": {
      "text/plain": [
       "<AxesSubplot: title={'center': 'Feature importances'}>"
      ]
     },
     "execution_count": 11,
     "metadata": {},
     "output_type": "execute_result"
    },
    {
     "data": {
      "image/png": "[encoded data removed]",
      "text/plain": [
       "<Figure size 640x480 with 1 Axes>"
      ]
     },
     "metadata": {},
     "output_type": "display_data"
    }
   ],
   "source": [
    "plot.feature_importances(dtc, top_n=5, feature_names=list(dtc.feature_names_in_))"
   ]
  },
  {
   "cell_type": "markdown",
   "id": "376e5fee",
   "metadata": {},
   "source": [
    "In addition to the plot, we can also represent the importance through a table, which we can later track and query via SQL. For more information, check our [tracking guide](https://sklearn-evaluation.ploomber.io/en/latest/api/SQLiteTracker.html)"
   ]
  },
  {
   "cell_type": "code",
   "execution_count": 12,
   "id": "d1e41feb",
   "metadata": {},
   "outputs": [
    {
     "name": "stdout",
     "output_type": "stream",
     "text": [
      "+-------------------+--------------+\n",
      "| feature_name      |   importance |\n",
      "+===================+==============+\n",
      "| flipper_length_mm |   0.525414   |\n",
      "+-------------------+--------------+\n",
      "| bill_length_mm    |   0.397288   |\n",
      "+-------------------+--------------+\n",
      "| island            |   0.068959   |\n",
      "+-------------------+--------------+\n",
      "| Male              |   0.00678311 |\n",
      "+-------------------+--------------+\n",
      "| bill_depth_mm     |   0.00155592 |\n",
      "+-------------------+--------------+\n",
      "| body_mass_g       |   0          |\n",
      "+-------------------+--------------+\n"
     ]
    }
   ],
   "source": [
    "print(table.feature_importances(dtc, feature_names=list(dtc.feature_names_in_)))"
   ]
  }
 ],
 "metadata": {
  "kernelspec": {
   "display_name": "Python 3 (ipykernel)",
   "language": "python",
   "name": "python3"
  },
  "language_info": {
   "codemirror_mode": {
    "name": "ipython",
    "version": 3
   },
   "file_extension": ".py",
   "mimetype": "text/x-python",
   "name": "python",
   "nbconvert_exporter": "python",
   "pygments_lexer": "ipython3",
   "version": "3.11.5"
  }
 },
 "nbformat": 4,
 "nbformat_minor": 5
}
